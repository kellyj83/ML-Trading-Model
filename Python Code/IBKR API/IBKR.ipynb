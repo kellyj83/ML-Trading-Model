{
 "cells": [
  {
   "cell_type": "code",
   "execution_count": 8,
   "id": "8911707e",
   "metadata": {},
   "outputs": [],
   "source": [
    "import time\n",
    "import threading\n",
    "from datetime import datetime\n",
    "from typing import Dict, Optional\n",
    "import pandas as pd \n",
    "import warnings\n",
    "warnings.filterwarnings(\"ignore\")"
   ]
  },
  {
   "cell_type": "code",
   "execution_count": 9,
   "id": "9ba5e1f8",
   "metadata": {},
   "outputs": [],
   "source": [
    "from ibapi.client import EClient   # responsible for making call to API server\n",
    "from ibapi.wrapper import EWrapper  # handles callback\n",
    "from ibapi.contract import Contract # how IB defines an instrument\n",
    "from ibapi.order import Order  # how IB defines an order\n",
    "from ibapi.common import BarData  # bar of historical data we get back"
   ]
  },
  {
   "cell_type": "code",
   "execution_count": 10,
   "id": "2ed7b499",
   "metadata": {},
   "outputs": [],
   "source": [
    "# Create a class to combine EClient and EWrapper\n",
    "class TradingApp(EClient, EWrapper):\n",
    "    \n",
    "    # Instantiate the class \n",
    "    def __init__(self) -> None:\n",
    "        EClient.__init__(self, self)\n",
    "        self.data: Dict[int, pd.DataFrame] = {}\n",
    "        \n",
    "    def error(self, reqId, errorCode, errorString, advancedOrderRejectJson=None):\n",
    "        print(f\"Error: {reqId}, {errorCode}, {errorString}\")\n",
    "        if advancedOrderRejectJson:\n",
    "            print(f\"Advanced: {advancedOrderRejectJson}\")\n",
    "        \n",
    "    def get_historical_data(self, reqId: int, contract: Contract) -> pd.DataFrame:\n",
    "        self.data[reqId] = pd.DataFrame(columns=[\"time\", \"high\", \"low\", \"close\"])\n",
    "        self.data[reqId].set_index(\"time\", inplace=True)\n",
    "        self.reqHistoricalData(\n",
    "            reqId=reqId,\n",
    "            contract=contract,\n",
    "            endDateTime=\"\",\n",
    "            durationStr=\"1 D\",\n",
    "            barSizeSetting=\"1 min\",\n",
    "            whatToShow=\"MIDPOINT\",\n",
    "            useRTH=0,\n",
    "            formatDate=2,\n",
    "            keepUpToDate=False,\n",
    "            chartOptions=[]\n",
    "        )\n",
    "        time.sleep(3)\n",
    "        return self.data[reqId]\n",
    "    \n",
    "    def histogramData(self, reqId: int, bar: BarData) -> None:\n",
    "        df = self.data[reqId]\n",
    "        df.loc[\n",
    "            pd.to_datetime(bar.date, unit=\"s\"),\n",
    "            [\"high\", \"low\", \"close\"]\n",
    "        ] = [bar.high, bar.low, bar.close]\n",
    "        df = df.astype(float)\n",
    "        self.data[reqId] = df\n",
    "        \n",
    "    @staticmethod\n",
    "    def create_contract(symbol: str, secType: str = \"STK\", exchange: str = \"SMART\", currency: str = \"USD\") -> Contract:\n",
    "        contract = Contract()\n",
    "        contract.symbol = symbol\n",
    "        contract.secType = 'STK'\n",
    "        contract.exchange = 'SMART'\n",
    "        contract.currency = 'USD'\n",
    "        return contract"
   ]
  },
  {
   "cell_type": "code",
   "execution_count": 11,
   "id": "43518ce9",
   "metadata": {},
   "outputs": [],
   "source": [
    "app = TradingApp()"
   ]
  },
  {
   "cell_type": "code",
   "execution_count": 12,
   "id": "e3983992",
   "metadata": {},
   "outputs": [],
   "source": [
    "app.connect(\"127.0.0.1\", 7497, clientId=5)"
   ]
  },
  {
   "cell_type": "code",
   "execution_count": 13,
   "id": "d6778586",
   "metadata": {},
   "outputs": [
    {
     "name": "stdout",
     "output_type": "stream",
     "text": [
      "Error: -1, 2104, Market data farm connection is OK:usfarm.nj\n",
      "Error: -1, 2104, Market data farm connection is OK:eufarm\n",
      "Error: -1, 2104, Market data farm connection is OK:cashfarm\n",
      "Error: -1, 2104, Market data farm connection is OK:usfarm\n",
      "Error: -1, 2106, HMDS data farm connection is OK:euhmds\n",
      "Error: -1, 2106, HMDS data farm connection is OK:fundfarm\n",
      "Error: -1, 2106, HMDS data farm connection is OK:ushmds\n",
      "Error: -1, 2158, Sec-def data farm connection is OK:secdefeu\n"
     ]
    },
    {
     "name": "stdout",
     "output_type": "stream",
     "text": [
      "Error: 99, 162, Historical Market Data Service error message:No market data permissions for ISLAND STK. Requested market data requires additional subscription for API. See link in 'Market Data Connections' dialog for more details.\n"
     ]
    }
   ],
   "source": [
    "threading.Thread(target=app.run, daemon=True).start()"
   ]
  },
  {
   "cell_type": "code",
   "execution_count": 14,
   "id": "9c540e9b",
   "metadata": {},
   "outputs": [],
   "source": [
    "nvda = TradingApp.create_contract(\"NVDA\")"
   ]
  },
  {
   "cell_type": "code",
   "execution_count": 15,
   "id": "a3c25bbe",
   "metadata": {},
   "outputs": [],
   "source": [
    "data = app.get_historical_data(99, contract=nvda)"
   ]
  },
  {
   "cell_type": "code",
   "execution_count": 16,
   "id": "a62d1662",
   "metadata": {},
   "outputs": [
    {
     "name": "stdout",
     "output_type": "stream",
     "text": [
      "Empty DataFrame\n",
      "Columns: [high, low, close]\n",
      "Index: []\n"
     ]
    }
   ],
   "source": [
    "print(data)"
   ]
  }
 ],
 "metadata": {
  "kernelspec": {
   "display_name": "Python 3",
   "language": "python",
   "name": "python3"
  },
  "language_info": {
   "codemirror_mode": {
    "name": "ipython",
    "version": 3
   },
   "file_extension": ".py",
   "mimetype": "text/x-python",
   "name": "python",
   "nbconvert_exporter": "python",
   "pygments_lexer": "ipython3",
   "version": "3.11.9"
  }
 },
 "nbformat": 4,
 "nbformat_minor": 5
}
