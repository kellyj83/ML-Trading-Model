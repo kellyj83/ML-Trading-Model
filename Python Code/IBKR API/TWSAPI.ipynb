{
 "cells": [
  {
   "cell_type": "code",
   "execution_count": 10,
   "id": "4d95869a",
   "metadata": {},
   "outputs": [
    {
     "name": "stdout",
     "output_type": "stream",
     "text": [
      "Error. Id: -1, Code: 326, Msg: Unable to connect as the client id is already in use. Retry with a unique client id.\n"
     ]
    },
    {
     "ename": "AttributeError",
     "evalue": "'TestApp' object has no attribute 'orderId'",
     "output_type": "error",
     "traceback": [
      "\u001b[31m---------------------------------------------------------------------------\u001b[39m",
      "\u001b[31mAttributeError\u001b[39m                            Traceback (most recent call last)",
      "\u001b[36mCell\u001b[39m\u001b[36m \u001b[39m\u001b[32mIn[10]\u001b[39m\u001b[32m, line 30\u001b[39m\n\u001b[32m     27\u001b[39m time.sleep(\u001b[32m3\u001b[39m)\n\u001b[32m     29\u001b[39m \u001b[38;5;28;01mfor\u001b[39;00m i \u001b[38;5;129;01min\u001b[39;00m \u001b[38;5;28mrange\u001b[39m(\u001b[32m0\u001b[39m,\u001b[32m5\u001b[39m):\n\u001b[32m---> \u001b[39m\u001b[32m30\u001b[39m     \u001b[38;5;28mprint\u001b[39m(\u001b[43mapp\u001b[49m\u001b[43m.\u001b[49m\u001b[43mnextId\u001b[49m\u001b[43m(\u001b[49m\u001b[43m)\u001b[49m)\n\u001b[32m     31\u001b[39m     app.reqCurrentTime()\n",
      "\u001b[36mCell\u001b[39m\u001b[36m \u001b[39m\u001b[32mIn[10]\u001b[39m\u001b[32m, line 14\u001b[39m, in \u001b[36mTestApp.nextId\u001b[39m\u001b[34m(self)\u001b[39m\n\u001b[32m     13\u001b[39m \u001b[38;5;28;01mdef\u001b[39;00m\u001b[38;5;250m \u001b[39m\u001b[34mnextId\u001b[39m(\u001b[38;5;28mself\u001b[39m):\n\u001b[32m---> \u001b[39m\u001b[32m14\u001b[39m     \u001b[38;5;28;43mself\u001b[39;49m\u001b[43m.\u001b[49m\u001b[43morderId\u001b[49m += \u001b[32m1\u001b[39m\n\u001b[32m     15\u001b[39m     \u001b[38;5;28;01mreturn\u001b[39;00m \u001b[38;5;28mself\u001b[39m.orderId\n",
      "\u001b[31mAttributeError\u001b[39m: 'TestApp' object has no attribute 'orderId'"
     ]
    }
   ],
   "source": [
    "from ibapi.client import *\n",
    "from ibapi.wrapper import *\n",
    "import time\n",
    "import threading\n",
    "\n",
    "class TestApp(EClient, EWrapper):\n",
    "    def __init__(self):\n",
    "        EClient.__init__(self, self)\n",
    "        \n",
    "    def nextValidId(self, orderId):\n",
    "        self.orderId = orderId\n",
    "    \n",
    "    def nextId(self):\n",
    "        self.orderId += 1\n",
    "        return self.orderId\n",
    "    \n",
    "    def currentTime(self, time):\n",
    "        print(time)\n",
    "    \n",
    "    def error(self, reqId, errorCode, errorString):\n",
    "        print(f\"Error. Id: {reqId}, Code: {errorCode}, Msg: {errorString}\")\n",
    "    \n",
    "app = TestApp()\n",
    "app.connect(\"127.0.0.1\", 7497, 0)\n",
    "threading.Thread(target=app.run).start()\n",
    "\n",
    "time.sleep(3)\n",
    "\n",
    "for i in range(0,5):\n",
    "    print(app.nextId())\n",
    "    app.reqCurrentTime()"
   ]
  }
 ],
 "metadata": {
  "kernelspec": {
   "display_name": "Python 3",
   "language": "python",
   "name": "python3"
  },
  "language_info": {
   "codemirror_mode": {
    "name": "ipython",
    "version": 3
   },
   "file_extension": ".py",
   "mimetype": "text/x-python",
   "name": "python",
   "nbconvert_exporter": "python",
   "pygments_lexer": "ipython3",
   "version": "3.11.9"
  }
 },
 "nbformat": 4,
 "nbformat_minor": 5
}
